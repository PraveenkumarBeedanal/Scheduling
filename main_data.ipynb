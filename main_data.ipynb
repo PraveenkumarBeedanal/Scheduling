{
 "cells": [
  {
   "cell_type": "markdown",
   "metadata": {},
   "source": [
    "Importing libraries from gurobipy"
   ]
  },
  {
   "cell_type": "code",
   "execution_count": 1,
   "metadata": {},
   "outputs": [],
   "source": [
    "from gurobipy import *"
   ]
  },
  {
   "cell_type": "markdown",
   "metadata": {},
   "source": [
    "# Data Defintion"
   ]
  },
  {
   "cell_type": "markdown",
   "metadata": {},
   "source": [
    "Define data sets T, U, I, $J_i$"
   ]
  },
  {
   "cell_type": "markdown",
   "metadata": {},
   "source": [
    "Total number of time slots in a day. Each time slot refers to the 15 min denoted by $t$. "
   ]
  },
  {
   "cell_type": "code",
   "execution_count": 2,
   "metadata": {},
   "outputs": [],
   "source": [
    "time_slots = ['k1', 'k2','k3', 'k4', 'k5', 'k6', 'k7', 'k8', 'k9', 'k10', 'k11', 'k12', 'k13', 'k14', 'k15', 'k16', 'k17', \n",
    "              'k18', 'k19', 'k20', 'k21', 'k22', 'k23', 'k24', 'k25', 'k26', 'k27', 'k28', 'k29', 'k30', 'k31', 'k32', 'k33', \n",
    "              'k34', 'k35', 'k36', 'k37', 'k38', 'k39', 'k40', 'k41', 'k42', 'k43', 'k44', 'k45', 'k46', 'k47', 'k48', 'k49', \n",
    "              'k50', 'k51', 'k52', 'k53', 'k54', 'k55', 'k56', 'k57', 'k58', 'k59', 'k60', 'k61', 'k62', 'k63', 'k64', 'k65', \n",
    "              'k66', 'k67', 'k68', 'k69', 'k70', 'k71', 'k72', 'k73', 'k74', 'k75', 'k76', 'k77', 'k78', 'k79','k80', 'k81', \n",
    "              'k82','k83', 'k84', 'k85', 'k86', 'k87', 'k88', 'k89', 'k90', 'k91', 'k92', 'k93', 'k94', 'k95', 'k96']\n"
   ]
  },
  {
   "cell_type": "markdown",
   "metadata": {},
   "source": [
    "Total number of Homes in the Building, each building denoted by $u$.  "
   ]
  },
  {
   "cell_type": "code",
   "execution_count": 3,
   "metadata": {},
   "outputs": [],
   "source": [
    "users = ['u1', 'u2', 'u3', 'u4', 'u5', 'u6', 'u7', 'u8', 'u9', 'u10', 'u11', 'u12', 'u13', 'u14', 'u15', \n",
    "         'u16', 'u17', 'u18', 'u19', 'u20', 'u21', 'u22', 'u23', 'u24', 'u25', 'u26', 'u27', 'u28', 'u29', 'u30']\n"
   ]
  },
  {
   "cell_type": "markdown",
   "metadata": {},
   "source": [
    "Total appliances in the home, each appliance denoted by $i$. "
   ]
  },
  {
   "cell_type": "code",
   "execution_count": 4,
   "metadata": {},
   "outputs": [],
   "source": [
    "appliances = ['washingmachine', 'dryer', 'dishwasher', 'refrigerator', 'gashob1', 'gashob2']"
   ]
  },
  {
   "cell_type": "markdown",
   "metadata": {},
   "source": [
    "The task $j$ of the each appliance $i$. "
   ]
  },
  {
   "cell_type": "code",
   "execution_count": 5,
   "metadata": {},
   "outputs": [],
   "source": [
    "task_appliances = {'washingmachine':['movement', 'heating','washing', 'cooling', '1strinse', '2ndrinse', \n",
    "                                     '3rdrinse'],\n",
    "                   \n",
    "                   'dryer': ['drying1', 'drying2', 'drying3', 'drying4', 'drying5', 'drying6', 'drying7', 'drying8'], \n",
    "                   \n",
    "                   'dishwasher': ['movement', 'heating1', 'wash', '1strinse', 'drain', 'heating2','2ndrinse', 'drain_and_dry'],\n",
    "                   \n",
    "                   'refrigerator': ['cooling1', 'cooling2', 'cooling3', 'cooling4','cooling5', 'cooling6', 'cooling7', \n",
    "                                    'cooling8', 'cooling9', 'cooling10','cooling11', 'cooling12', 'cooling13','cooling14',\n",
    "                                    'cooling15', 'cooling16', 'cooling17', 'cooling18', 'cooling19', 'cooling20', 'cooling21',\n",
    "                                    'cooling22', 'cooling23', 'cooling24','cooling25', 'cooling26', 'cooling27','cooling28', \n",
    "                                    'cooling29', 'cooling30','cooling31', 'cooling32', 'cooling33', 'cooling34','cooling35', \n",
    "                                    'cooling36', 'cooling37', 'cooling38', 'cooling39', 'cooling40', 'cooling41', \n",
    "                                    'cooling42', 'cooling43', 'cooling44','cooling45', 'cooling46', 'cooling47','cooling48', \n",
    "                                    'cooling49', 'cooling50', 'cooling51', 'cooling52', 'cooling53', 'cooling54',\n",
    "                                    'cooling55', 'cooling56', 'cooling57', 'cooling58', 'cooling59', 'cooling60', \n",
    "                                    'cooling61', 'cooling62', 'cooling63', 'cooling64','cooling65', 'cooling66', 'cooling67',\n",
    "                                    'cooling68', 'cooling69', 'cooling70', 'cooling71', 'cooling72', 'cooling73', \n",
    "                                    'cooling74','cooling75', 'cooling76', 'cooling77', 'cooling78', 'cooling79', 'cooling80', \n",
    "                                    'cooling81', 'cooling82', 'cooling83', 'cooling84','cooling85', 'cooling86', 'cooling87',\n",
    "                                    'cooling88', 'cooling89', 'cooling90', 'cooling91', 'cooling92', 'cooling93', \n",
    "                                    'cooling94','cooling95', 'cooling96'],\n",
    "                   \n",
    "                   'gashob1':['heating1','heating2', 'heating3', 'heating4'], \n",
    "                   \n",
    "                   'gashob2':['heating1','heating2','heating3', 'heating4', 'heating5','heating6']}\n"
   ]
  },
  {
   "cell_type": "markdown",
   "metadata": {},
   "source": [
    "# Parameters for the model. "
   ]
  },
  {
   "cell_type": "markdown",
   "metadata": {},
   "source": [
    "The starting time slot $t_{st, i}$ selected by the user for the appliances. "
   ]
  },
  {
   "cell_type": "code",
   "execution_count": 6,
   "metadata": {},
   "outputs": [],
   "source": [
    "starting_time_slot = {'washingmachine': 36, 'dryer': 36, 'dishwasher':66, 'refrigerator': 1, 'gashob1': 4, 'gashob2': 52 }"
   ]
  },
  {
   "cell_type": "markdown",
   "metadata": {},
   "source": [
    "The ending time slot $t_{end, i}$ selected by the user for the appliances. "
   ]
  },
  {
   "cell_type": "code",
   "execution_count": 7,
   "metadata": {},
   "outputs": [],
   "source": [
    " ending_time_slot = {'washingmachine': 64, 'dryer': 64, 'dishwasher':96, 'refrigerator': 96, 'gashob1': 10, 'gashob2': 64 }"
   ]
  },
  {
   "cell_type": "markdown",
   "metadata": {},
   "source": [
    "The total operation time $r_i$ of each appliances. "
   ]
  },
  {
   "cell_type": "code",
   "execution_count": 8,
   "metadata": {},
   "outputs": [],
   "source": [
    "run_time = {'washingmachine': 7, 'dryer': 8, 'dishwasher': 8, 'refrigerator': 96, 'gashob1': 4, 'gashob2': 6}"
   ]
  },
  {
   "cell_type": "markdown",
   "metadata": {},
   "source": [
    "Hotwater storage tank capacity $C_{ST}$ in Wh. "
   ]
  },
  {
   "cell_type": "code",
   "execution_count": 9,
   "metadata": {},
   "outputs": [],
   "source": [
    "tank_capacity = 31719"
   ]
  },
  {
   "cell_type": "markdown",
   "metadata": {},
   "source": [
    "Amount of only electricity required by task $j$ of appliance $i$ denoted by $E_{i,j}^{high}$ (Wh).\n"
   ]
  },
  {
   "cell_type": "code",
   "execution_count": 10,
   "metadata": {},
   "outputs": [],
   "source": [
    "task_only_electricity_req = {'washingmachine': {'movement': 25.0, 'heating': 500.0, 'washing': 225.0, 'cooling': 25.0, '1strinse': 25.0, \n",
    "                                          '2ndrinse': 75.0, '3rdrinse': 12.5}, \n",
    "                    \n",
    "                        'dryer': {'drying1': 500.0, 'drying2': 500.0, 'drying3': 500.0, 'drying4': 400.0, 'drying5': 325.0, 'drying6': 235.0,\n",
    "                                 'drying7': 0.0, 'drying8': 0.0},\n",
    "                       \n",
    "                       'dishwasher': {'movement': 20.0,'heating1': 500.0,'wash': 20.0,'1strinse': 20.0, 'drain': 20.0, 'heating2': 500.0,\n",
    "                                     '2ndrinse': 75.0, 'drain_and_dry': 37.5}, \n",
    "                       \n",
    "                       'refrigerator': {'cooling1': 34.5,'cooling2': 34.5, 'cooling3': 0.25, 'cooling4': 34.5,'cooling5':34.5, \n",
    "                                        'cooling6': 0.25, 'cooling7': 34.5, 'cooling8': 34.5, 'cooling9': 0.25, 'cooling10': 34.5,\n",
    "                                        'cooling11': 34.5, 'cooling12': 0.25, 'cooling13': 34.5,'cooling14':34.5,'cooling15': 0.25, \n",
    "                                        'cooling16': 34.5, 'cooling17': 34.5, 'cooling18': 0.25, 'cooling19':34.5, 'cooling20': 34.5,\n",
    "                                        'cooling21': 0.25, 'cooling22': 34.5, 'cooling23': 34.5, 'cooling24':0.25,'cooling25':34.5,\n",
    "                                        'cooling26': 34.5, 'cooling27': 0.25,'cooling28': 34.5, 'cooling29': 34.5, 'cooling30': 0.25,\n",
    "                                        'cooling31': 34.5, 'cooling32': 34.5, 'cooling33': 0.25, 'cooling34': 34.5,'cooling35': 34.5,\n",
    "                                        'cooling36': 0.25, 'cooling37': 34.5, 'cooling38': 34.5, 'cooling39':0.25, 'cooling40': 34.5,\n",
    "                                        'cooling41': 34.5,'cooling42': 0.25, 'cooling43': 34.5, 'cooling44': 34.5,'cooling45': 0.25,\n",
    "                                        'cooling46': 34.5, 'cooling47': 34.5,'cooling48': 0.25,'cooling49': 34.5, 'cooling50': 34.5,\n",
    "                                        'cooling51': 0.25, 'cooling52': 34.5, 'cooling53': 34.5, 'cooling54': 0.25,'cooling55': 34.5,\n",
    "                                        'cooling56': 34.5, 'cooling57': 0.25, 'cooling58': 34.5, 'cooling59': 34.5, 'cooling60': 0.25,\n",
    "                                        'cooling61': 34.5, 'cooling62': 34.5, 'cooling63': 0.25, 'cooling64': 34.5,'cooling65': 34.5,\n",
    "                                        'cooling66': 0.25, 'cooling67': 34.5,'cooling68': 34.5, 'cooling69': 0.25, 'cooling70': 34.5,\n",
    "                                        'cooling71': 34.5, 'cooling72': 0.25, 'cooling73': 34.5, 'cooling74': 34.5,'cooling75': 0.25,\n",
    "                                        'cooling76': 34.5, 'cooling77': 34.5, 'cooling78': 0.25, 'cooling79': 34.5, 'cooling80': 34.5,\n",
    "                                        'cooling81': 0.25, 'cooling82': 34.5, 'cooling83': 34.5, 'cooling84': 0.25,'cooling85': 34.5,\n",
    "                                        'cooling86': 34.5, 'cooling87':0.25, 'cooling88': 34.5, 'cooling89': 34.5, 'cooling90': 0.25,\n",
    "                                        'cooling91': 34.5, 'cooling92': 34.5, 'cooling93': 0.25,'cooling94': 34.5,'cooling95': 34.5,\n",
    "                                        'cooling96': 0.25 }, \n",
    "                       'gashob1': {'heating1': 0.0, 'heating2': 0.0, 'heating3': 0.0, 'heating4': 0.0},\n",
    "                             \n",
    "                       'gashob2':{'heating1': 0.0, 'heating2': 0.0, 'heating3': 0.0, 'heating4': 0.0, 'heating5': 0.0, \n",
    "                                  'heating6': 0.0}}"
   ]
  },
  {
   "cell_type": "code",
   "execution_count": null,
   "metadata": {},
   "outputs": [],
   "source": []
  },
  {
   "cell_type": "markdown",
   "metadata": {},
   "source": [
    "Amount of low electricity required by the task $j$ of the appliance $i$ denoted by $E_{i, j}^{low}$(Wh)."
   ]
  },
  {
   "cell_type": "code",
   "execution_count": 11,
   "metadata": {},
   "outputs": [],
   "source": [
    "task_low_electricity_req = {'washingmachine': {'movement': 25.0, 'heating': 362.5, 'washing': 25.0, 'cooling': 25.0, '1strinse': 25.0, \n",
    "                                          '2ndrinse': 75.0, '3rdrinse': 12.5}, \n",
    "                    \n",
    "                        'dryer': {'drying1': 50.0, 'drying2': 50.0, 'drying3': 50.0, 'drying4': 50.0, 'drying5': 50.0, 'drying6': 50.0,\n",
    "                                 'drying7': 50.0, 'drying8': 50.0}, \n",
    "                       \n",
    "                       'dishwasher': {'movement': 20.0, 'heating1': 250.0, 'wash': 20.0, '1strinse': 20.0, 'drain': 20.0, 'heating2': 250.0,\n",
    "                                     '2ndrinse': 20.0, 'drain_and_dry': 20.0}, \n",
    "                       \n",
    "                       'refrigerator': {'cooling1': 0.0,'cooling2': 0.0, 'cooling3': 0.0, 'cooling4': 0.0,'cooling5': 0.0, \n",
    "                                 'cooling6': 0.0, 'cooling7': 0.0, 'cooling8': 0.0, 'cooling9': 0.0, 'cooling10': 0.0,\n",
    "                                 'cooling11': 0.0, 'cooling12': 0.0, 'cooling13': 0.0,'cooling14': 0.0,'cooling15': 0.0, \n",
    "                                 'cooling16': 0.0, 'cooling17': 0.0, 'cooling18': 0.0, 'cooling19': 0.0, 'cooling20': 0.0,\n",
    "                                 'cooling21': 0.0, 'cooling22': 0.0, 'cooling23': 0.0, 'cooling24': 0.0,'cooling25': 0.0,\n",
    "                                 'cooling26': 0.0, 'cooling27': 0.0 ,'cooling28': 0.0, 'cooling29': 0.0, 'cooling30': 0.0,\n",
    "                                 'cooling31': 0.0, 'cooling32': 0.0, 'cooling33': 0.0, 'cooling34': 0.0,'cooling35': 0.0,\n",
    "                                 'cooling36': 0.0, 'cooling37': 0.0, 'cooling38': 0.0, 'cooling39': 0.0, 'cooling40': 0.0,\n",
    "                                 'cooling41': 0.0,'cooling42': 0.0, 'cooling43': 0.0, 'cooling44': 0.0,'cooling45': 0.0,\n",
    "                                 'cooling46': 0.0, 'cooling47': 0.0,'cooling48': 0.0,'cooling49': 0.0, 'cooling50': 0.0,\n",
    "                                 'cooling51': 0.0, 'cooling52': 0.0, 'cooling53': 0.0, 'cooling54': 0.0,'cooling55': 0.0,\n",
    "                                 'cooling56': 0.0, 'cooling57': 0.0, 'cooling58': 0.0, 'cooling59': 0.0, 'cooling60': 0.0,\n",
    "                                 'cooling61': 0.0, 'cooling62': 0.0, 'cooling63': 0.0, 'cooling64': 0.0,'cooling65': 0.0,\n",
    "                                 'cooling66': 0.0, 'cooling67': 0.0,'cooling68': 0.0, 'cooling69': 0.0, 'cooling70': 0.0,\n",
    "                                 'cooling71': 0.0, 'cooling72': 0.0, 'cooling73': 0.0, 'cooling74': 0.0,'cooling75': 0.0,\n",
    "                                 'cooling76': 0.0, 'cooling77': 0.0, 'cooling78': 0.0, 'cooling79': 0.0, 'cooling80': 0.0,\n",
    "                                 'cooling81': 0.0, 'cooling82': 0.0, 'cooling83': 0.0, 'cooling84': 0.0,'cooling85': 0.0,\n",
    "                                 'cooling86': 0.0, 'cooling87': 0.0, 'cooling88': 0.0, 'cooling89': 0.0, 'cooling90': 0.0,\n",
    "                                 'cooling91': 0.0, 'cooling92': 0.0, 'cooling93': 0.0,'cooling94': 0.0,'cooling95': 0.0,\n",
    "                                 'cooling96': 0.0}, \n",
    "                      'gashob1': {'heating1': 0.0, 'heating2': 0.0, 'heating3': 0.0, 'heating4': 0.0}, \n",
    "                    \n",
    "                      'gashob2':{'heating1': 0.0, 'heating2': 0.0, 'heating3': 0.0, 'heating4': 0.0, 'heating5': 0.0, 'heating6': 0.0}}"
   ]
  },
  {
   "cell_type": "markdown",
   "metadata": {},
   "source": [
    "Amount of gas required by task j of appliance i denoted by $G_{i, j}$(wh).\n",
    "Gas hob consumption referred from this website. [https://www.confusedaboutenergy.co.uk/index.php/buying-household-appliances/85-cookers/118-cookers]. Average energy consumption per use is 0.90kWh."
   ]
  },
  {
   "cell_type": "code",
   "execution_count": 12,
   "metadata": {},
   "outputs": [],
   "source": [
    "task_gas_req = {'washingmachine': {'movement': 0.0, 'heating': 0.0, 'washing': 0.0, 'cooling': 0.0, '1strinse': 0.0, \n",
    "                                          '2ndrinse': 0.0, '3rdrinse': 0.0}, \n",
    "                    \n",
    "                'dryer': {'drying1': 0.0, 'drying2': 0.0, 'drying3': 0.0, 'drying4': 0.0, 'drying5': 0.0, 'drying6': 0.0,\n",
    "                                 'drying7': 0.0, 'drying8': 0.0}, \n",
    "                       \n",
    "                'dishwasher': {'movement': 0.0, 'heating1': 0.0, 'wash': 0.0, '1strinse': 0.0, 'drain': 0.0, 'heating2': 0.0,\n",
    "                                     '2ndrinse': 0.0, 'drain_and_dry': 0.0}, \n",
    "                       \n",
    "                'refrigerator': {'cooling1': 0.0,'cooling2': 0.0, 'cooling3': 0.0, 'cooling4': 0.0,'cooling5': 0.0, \n",
    "                                 'cooling6': 0.0, 'cooling7': 0.0, 'cooling8': 0.0, 'cooling9': 0.0, 'cooling10': 0.0,\n",
    "                                 'cooling11': 0.0, 'cooling12': 0.0, 'cooling13': 0.0,'cooling14': 0.0,'cooling15': 0.0, \n",
    "                                 'cooling16': 0.0, 'cooling17': 0.0, 'cooling18': 0.0, 'cooling19': 0.0, 'cooling20': 0.0,\n",
    "                                 'cooling21': 0.0, 'cooling22': 0.0, 'cooling23': 0.0, 'cooling24': 0.0,'cooling25': 0.0,\n",
    "                                 'cooling26': 0.0, 'cooling27': 0.0 ,'cooling28': 0.0, 'cooling29': 0.0, 'cooling30': 0.0,\n",
    "                                 'cooling31': 0.0, 'cooling32': 0.0, 'cooling33': 0.0, 'cooling34': 0.0,'cooling35': 0.0,\n",
    "                                 'cooling36': 0.0, 'cooling37': 0.0, 'cooling38': 0.0, 'cooling39': 0.0, 'cooling40': 0.0,\n",
    "                                 'cooling41': 0.0,'cooling42': 0.0, 'cooling43': 0.0, 'cooling44': 0.0,'cooling45': 0.0,\n",
    "                                 'cooling46': 0.0, 'cooling47': 0.0,'cooling48': 0.0,'cooling49': 0.0, 'cooling50': 0.0,\n",
    "                                 'cooling51': 0.0, 'cooling52': 0.0, 'cooling53': 0.0, 'cooling54': 0.0,'cooling55': 0.0,\n",
    "                                 'cooling56': 0.0, 'cooling57': 0.0, 'cooling58': 0.0, 'cooling59': 0.0, 'cooling60': 0.0,\n",
    "                                 'cooling61': 0.0, 'cooling62': 0.0, 'cooling63': 0.0, 'cooling64': 0.0,'cooling65': 0.0,\n",
    "                                 'cooling66': 0.0, 'cooling67': 0.0,'cooling68': 0.0, 'cooling69': 0.0, 'cooling70': 0.0,\n",
    "                                 'cooling71': 0.0, 'cooling72': 0.0, 'cooling73': 0.0, 'cooling74': 0.0,'cooling75': 0.0,\n",
    "                                 'cooling76': 0.0, 'cooling77': 0.0, 'cooling78': 0.0, 'cooling79': 0.0, 'cooling80': 0.0,\n",
    "                                 'cooling81': 0.0, 'cooling82': 0.0, 'cooling83': 0.0, 'cooling84': 0.0,'cooling85': 0.0,\n",
    "                                 'cooling86': 0.0, 'cooling87': 0.0, 'cooling88': 0.0, 'cooling89': 0.0, 'cooling90': 0.0,\n",
    "                                 'cooling91': 0.0, 'cooling92': 0.0, 'cooling93': 0.0,'cooling94': 0.0,'cooling95': 0.0,\n",
    "                                 'cooling96': 0.0 }, \n",
    "                'gashob1': {'heating1': 225.0, 'heating2': 225.0, 'heating3': 225.0, 'heating4': 225.0}, \n",
    "                \n",
    "                'gashob2':{'heating1': 225.0, 'heating2': 225.0, 'heating3': 225.0, 'heating4': 225.0, 'heating5': 225.0,\n",
    "                           'heating6': 225.0}}"
   ]
  },
  {
   "cell_type": "markdown",
   "metadata": {},
   "source": [
    "Amount of hot water required by task $j$ of appliance $i$ denoted by $H_{i,j}$(Wh)."
   ]
  },
  {
   "cell_type": "code",
   "execution_count": 13,
   "metadata": {},
   "outputs": [],
   "source": [
    "task_hotwater_req = { 'washingmachine': {'movement': 0.0, 'heating': 137.5, 'washing': 200.0, 'cooling': 0.0, '1strinse': 0.0, \n",
    "                                          '2ndrinse': 0.0, '3rdrinse': 0.0}, \n",
    "                     'dryer': {'drying1': 450.0, 'drying2': 450.0, 'drying3': 450.0, 'drying4': 350.0, 'drying5': 275.0, \n",
    "                               'drying6': 185.0, 'drying7': 50.0, 'drying8': 50.0}, \n",
    "                     'dishwasher': {'movement': 0.0, 'heating1': 250.0, 'wash': 0.0, '1strinse': 0.0, 'drain': 0.0, 'heating2': 250.0,\n",
    "                                     '2ndrinse': 55.0, 'drain_and_dry': 17.5}, \n",
    "                     'refrigerator': {'cooling1': 0.0,'cooling2': 0.0, 'cooling3': 0.0, 'cooling4': 0.0,'cooling5': 0.0, \n",
    "                                 'cooling6': 0.0, 'cooling7': 0.0, 'cooling8': 0.0, 'cooling9': 0.0, 'cooling10': 0.0,\n",
    "                                 'cooling11': 0.0, 'cooling12': 0.0, 'cooling13': 0.0,'cooling14': 0.0,'cooling15': 0.0, \n",
    "                                 'cooling16': 0.0, 'cooling17': 0.0, 'cooling18': 0.0, 'cooling19': 0.0, 'cooling20': 0.0,\n",
    "                                 'cooling21': 0.0, 'cooling22': 0.0, 'cooling23': 0.0, 'cooling24': 0.0,'cooling25': 0.0,\n",
    "                                 'cooling26': 0.0, 'cooling27': 0.0, 'cooling28': 0.0, 'cooling29': 0.0, 'cooling30': 0.0,\n",
    "                                 'cooling31': 0.0, 'cooling32': 0.0, 'cooling33': 0.0, 'cooling34': 0.0,'cooling35': 0.0,\n",
    "                                 'cooling36': 0.0, 'cooling37': 0.0, 'cooling38': 0.0, 'cooling39': 0.0, 'cooling40': 0.0,\n",
    "                                 'cooling41': 0.0,'cooling42': 0.0, 'cooling43': 0.0, 'cooling44': 0.0,'cooling45': 0.0,\n",
    "                                 'cooling46': 0.0, 'cooling47': 0.0,'cooling48': 0.0,'cooling49': 0.0, 'cooling50': 0.0,\n",
    "                                 'cooling51': 0.0, 'cooling52': 0.0, 'cooling53': 0.0, 'cooling54': 0.0,'cooling55': 0.0,\n",
    "                                 'cooling56': 0.0, 'cooling57': 0.0, 'cooling58': 0.0, 'cooling59': 0.0, 'cooling60': 0.0,\n",
    "                                 'cooling61': 0.0, 'cooling62': 0.0, 'cooling63': 0.0, 'cooling64': 0.0,'cooling65': 0.0,\n",
    "                                 'cooling66': 0.0, 'cooling67': 0.0,'cooling68': 0.0, 'cooling69': 0.0, 'cooling70': 0.0,\n",
    "                                 'cooling71': 0.0, 'cooling72': 0.0, 'cooling73': 0.0, 'cooling74': 0.0,'cooling75': 0.0,\n",
    "                                 'cooling76': 0.0, 'cooling77': 0.0, 'cooling78': 0.0, 'cooling79': 0.0, 'cooling80': 0.0,\n",
    "                                 'cooling81': 0.0, 'cooling82': 0.0, 'cooling83': 0.0, 'cooling84': 0.0,'cooling85': 0.0,\n",
    "                                 'cooling86': 0.0, 'cooling87': 0.0, 'cooling88': 0.0, 'cooling89': 0.0, 'cooling90': 0.0,\n",
    "                                 'cooling91': 0.0, 'cooling92': 0.0, 'cooling93': 0.0,'cooling94': 0.0,'cooling95': 0.0,\n",
    "                                 'cooling96': 0.0 },\n",
    "                     'gashob1': {'heating1': 0.0, 'heating2': 0.0, 'heating3': 0.0, 'heating4': 0.0}, \n",
    "                     \n",
    "                     'gashob2':{'heating1': 0.0, 'heating2': 0.0, 'heating3': 0.0, 'heating4': 0.0, 'heating5': 0.0, \n",
    "                                'heating6': 0.0}}"
   ]
  },
  {
   "cell_type": "markdown",
   "metadata": {},
   "source": [
    "Only electricity demand of task $j$ of appliance $i$ of user $u$ denoted by $E_{u, i, j}^{high}$ (Wh)."
   ]
  },
  {
   "cell_type": "code",
   "execution_count": 14,
   "metadata": {},
   "outputs": [],
   "source": [
    "electricity_high_req = {(u, app, task):task_only_electricity_req[app][task] for u in users for app in appliances for task in task_appliances[app]}\n"
   ]
  },
  {
   "cell_type": "markdown",
   "metadata": {},
   "source": [
    "Low electricity demand of task $j$ of appliance $i$ of user $u$ denoted by $E_{u, i, j}^{low}$ (Wh)"
   ]
  },
  {
   "cell_type": "code",
   "execution_count": 15,
   "metadata": {},
   "outputs": [],
   "source": [
    "electricity_low_req = {(u, app, task):task_low_electricity_req[app][task] for u in users for app in appliances for task in task_appliances[app] }"
   ]
  },
  {
   "cell_type": "markdown",
   "metadata": {},
   "source": [
    "Gas requirement of task $j$ of appliances $i$ of user $u$ denoted by $G_{u, i, j}^{req}$ (Wh)."
   ]
  },
  {
   "cell_type": "code",
   "execution_count": 16,
   "metadata": {},
   "outputs": [],
   "source": [
    "gas_req = {(u, app, task): task_gas_req[app][task] for u in users for app in appliances for task in task_appliances[app]}\n"
   ]
  },
  {
   "cell_type": "markdown",
   "metadata": {},
   "source": [
    "Hotwater demand of task $j$ of appliances $i$ of user $u$ denoted by $H_{u, i, j}^{demand}$ (Wh)."
   ]
  },
  {
   "cell_type": "code",
   "execution_count": 17,
   "metadata": {},
   "outputs": [],
   "source": [
    "hotwater_req = {(u, app, task): task_hotwater_req[app][task] for u in users for app in appliances for task in task_appliances[app]}"
   ]
  },
  {
   "cell_type": "markdown",
   "metadata": {},
   "source": [
    "Maximum capacity of power distribution grid denoted by $PEAK$ (wh). "
   ]
  },
  {
   "cell_type": "code",
   "execution_count": 18,
   "metadata": {},
   "outputs": [],
   "source": [
    "PEAK = 20625"
   ]
  },
  {
   "cell_type": "markdown",
   "metadata": {},
   "source": [
    "CO2 emission factor of electricity imported from grid denoted by $C_{t}^{electricity}$ (gco2/Wh)."
   ]
  },
  {
   "cell_type": "code",
   "execution_count": 19,
   "metadata": {},
   "outputs": [],
   "source": [
    "co2_factor_electricity = {'k1': 0.487 , 'k2': 0.485  ,'k3': 0.480, 'k4': 0.478, 'k5':0.478 , 'k6': 0.475, 'k7': 0.472,\n",
    "                          'k8': 0.470, 'k9': 0.470, 'k10': 0.468, 'k11': 0.465, 'k12': 0.460, 'k13': 0.457, 'k14': 0.456,\n",
    "                          'k15': 0.451 , 'k16': 0.452, 'k17': 0.452,'k18': 0.450, 'k19': 0.448, 'k20': 0.443, 'k21':0.438, \n",
    "                          'k22': 0.438, 'k23': 0.440, 'k24': 0.440, 'k25': 0.437, 'k26': 0.435, 'k27': 0.435, 'k28': 0.436,\n",
    "                          'k29': 0.437, 'k30': 0.437, 'k31':0.438, 'k32': 0.438, 'k33':0.438, 'k34': 0.441, 'k35': 0.443,\n",
    "                          'k36': 0.449, 'k37': 0.455, 'k38': 0.460, 'k39': 0.464, 'k40': 0.467, 'k41': 0.481, \n",
    "                          'k42': 0.489, 'k43': 0.495, 'k44': 0.497, 'k45': 0.504, 'k46': 0.509, 'k47': 0.514, 'k48': 0.520, \n",
    "                          'k49': 0.536, 'k50': 0.549, 'k51': 0.554, 'k52': 0.559, 'k53': 0.565, 'k54': 0.569, 'k55': 0.571, \n",
    "                          'k56': 0.571, 'k57': 0.558, 'k58': 0.562, 'k59': 0.570, 'k60': 0.574, 'k61': 0.567, \n",
    "                          'k62': 0.572, 'k63': 0.572, 'k64': 0.568, 'k65': 0.567, 'k66': 0.563, 'k67': 0.558, 'k68': 0.555, \n",
    "                          'k69': 0.554, 'k70': 0.552, 'k71': 0.551, 'k72': 0.549, 'k73': 0.542, 'k74': 0.540, 'k75': 0.542,\n",
    "                          'k76': 0.543, 'k77': 0.544, 'k78': 0.547, 'k79': 0.576, 'k80': 0.549, 'k81': 0.552, 'k82': 0.557, 'k83': 0.557,\n",
    "                          'k84': 0.560, 'k85': 0.563, 'k86': 0.563, 'k87':0.563, 'k88': 0.567, 'k89': 0.568, \n",
    "                          'k90': 0.566, 'k91': 0.561, 'k92': 0.550, 'k93': 0.548, 'k94': 0.541, 'k95': 0.532, 'k96': 0.524}\n"
   ]
  },
  {
   "cell_type": "markdown",
   "metadata": {},
   "source": [
    "CO2 emission factor of Natural gas and it is constant denoted by $C^{gas}$(gco2/Wh)[https://www.engineeringtoolbox.com/co2-emission-fuels-d_1085.html]."
   ]
  },
  {
   "cell_type": "code",
   "execution_count": 20,
   "metadata": {},
   "outputs": [],
   "source": [
    "co2_factor_gas = 0.180"
   ]
  },
  {
   "cell_type": "markdown",
   "metadata": {},
   "source": [
    "Maximum thermal output of the Boiler denoted by $T_{Boiler}^{max}$(wh)."
   ]
  },
  {
   "cell_type": "code",
   "execution_count": 21,
   "metadata": {},
   "outputs": [],
   "source": [
    " boiler_thermal_max= 21250 "
   ]
  },
  {
   "cell_type": "code",
   "execution_count": 22,
   "metadata": {},
   "outputs": [],
   "source": [
    "boiler_thermal_min = 300"
   ]
  },
  {
   "cell_type": "code",
   "execution_count": 23,
   "metadata": {},
   "outputs": [],
   "source": [
    "boiler_howater_max = 125615"
   ]
  },
  {
   "cell_type": "code",
   "execution_count": 24,
   "metadata": {},
   "outputs": [],
   "source": [
    "boiler_efficiecny = 0.9"
   ]
  },
  {
   "cell_type": "code",
   "execution_count": 25,
   "metadata": {},
   "outputs": [],
   "source": [
    "boiler_thermal_min = 0"
   ]
  }
 ],
 "metadata": {
  "kernelspec": {
   "display_name": "Python 3",
   "language": "python",
   "name": "python3"
  },
  "language_info": {
   "codemirror_mode": {
    "name": "ipython",
    "version": 3
   },
   "file_extension": ".py",
   "mimetype": "text/x-python",
   "name": "python",
   "nbconvert_exporter": "python",
   "pygments_lexer": "ipython3",
   "version": "3.6.5"
  }
 },
 "nbformat": 4,
 "nbformat_minor": 2
}
